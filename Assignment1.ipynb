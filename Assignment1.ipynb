{
 "cells": [
  {
   "cell_type": "markdown",
   "metadata": {},
   "source": [
    "Find mean, median, mode of your own dataset."
   ]
  },
  {
   "cell_type": "code",
   "execution_count": 5,
   "metadata": {},
   "outputs": [
    {
     "name": "stdout",
     "output_type": "stream",
     "text": [
      "Mean:  59.4\n",
      "Median:  61.5\n",
      "Mode:  45 Count:  2\n",
      "Weighted Average:  54.407407407407405\n",
      "Weighted Median:  56\n"
     ]
    }
   ],
   "source": [
    "# Name: Atul Rajput\n",
    "# Roll No. : 2230158\n",
    "import pandas as pd\n",
    "import numpy as np\n",
    "from scipy import stats\n",
    "\n",
    "# Create a DataFrame with 'value' and 'weight' columns\n",
    "dataframe = pd.DataFrame({\n",
    "    'value': [45, 67, 89, 34, 56, 78, 90, 67, 45, 23],\n",
    "    'weight': [1, 3, 2, 4, 5, 2, 1, 3, 2, 4]\n",
    "})\n",
    "\n",
    "# Calculate the mean of the 'value' column\n",
    "x = np.mean(dataframe.value)\n",
    "\n",
    "# Calculate the median of the 'value' column\n",
    "y = np.median(dataframe.value)\n",
    "\n",
    "# Calculate the mode of the 'value' column\n",
    "z = stats.mode(dataframe.value, keepdims=True)\n",
    "\n",
    "# Print the mean value\n",
    "print(\"Mean: \", x)\n",
    "\n",
    "# Print the median value\n",
    "print(\"Median: \", y)\n",
    "\n",
    "# Print the mode value (along with its count)\n",
    "print(\"Mode: \", z.mode[0], \"Count: \", z.count[0])\n",
    "\n",
    "# Function to compute the weighted average\n",
    "def weighted_average(dataframe, value, weight):\n",
    "    value = dataframe[value]  # Extract the value column\n",
    "    weight = dataframe[weight]  # Extract the weight column\n",
    "    # Compute the weighted average\n",
    "    return (value * weight).sum() / weight.sum()\n",
    "\n",
    "# Calculate and print the weighted average\n",
    "print(\"Weighted Average: \", weighted_average(dataframe, 'value', 'weight'))\n",
    "\n",
    "# Function to compute the weighted median\n",
    "def weighted_median(dataframe, value, weight):\n",
    "    sorted_df = dataframe.sort_values(by=value)  # Sort by value\n",
    "    cumulative_weight = sorted_df[weight].cumsum()  # Cumulative sum of weights\n",
    "    cutoff = sorted_df[weight].sum() / 2.0  # Half of total weight\n",
    "    # Find the value where cumulative weight is just greater than or equal to the cutoff\n",
    "    return sorted_df[sorted_df[weight].cumsum() >= cutoff][value].iloc[0]\n",
    "\n",
    "# Calculate and print the weighted median\n",
    "print(\"Weighted Median: \", weighted_median(dataframe, 'value', 'weight'))\n"
   ]
  }
 ],
 "metadata": {
  "kernelspec": {
   "display_name": "Python 3",
   "language": "python",
   "name": "python3"
  },
  "language_info": {
   "codemirror_mode": {
    "name": "ipython",
    "version": 3
   },
   "file_extension": ".py",
   "mimetype": "text/x-python",
   "name": "python",
   "nbconvert_exporter": "python",
   "pygments_lexer": "ipython3",
   "version": "3.12.4"
  }
 },
 "nbformat": 4,
 "nbformat_minor": 2
}
