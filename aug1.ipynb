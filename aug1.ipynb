{
 "cells": [
  {
   "cell_type": "code",
   "execution_count": 9,
   "metadata": {},
   "outputs": [
    {
     "name": "stdout",
     "output_type": "stream",
     "text": [
      "71.3\n",
      "77.0\n",
      "ModeResult(mode=np.int64(48), count=np.int64(2))\n"
     ]
    }
   ],
   "source": [
    "import pandas as pd\n",
    "import numpy\n",
    "from scipy import stats\n",
    "\n",
    "# Create a DataFrame with 'value' and 'weight' columns\n",
    "dataframe = pd.DataFrame({'value': [90, 50, 86, 87, 42, 48, 48, 68, 92, 102], 'weight': [4, 2, 3, 5, 6, 5, 5, 3, 7, 5]})\n",
    "\n",
    "# Calculate the mean of the 'value' column\n",
    "x = numpy.mean(dataframe.value)\n",
    "\n",
    "# Calculate the median of the 'value' column\n",
    "y = numpy.median(dataframe.value)\n",
    "\n",
    "# Calculate the mode of the 'value' column\n",
    "z = stats.mode(dataframe.value)\n",
    "\n",
    "# Print the mean value\n",
    "print(x)\n",
    "\n",
    "# Print the median value\n",
    "print(y)\n",
    "\n",
    "# Print the mode value (along with its count)\n",
    "print(z)\n"
   ]
  },
  {
   "cell_type": "code",
   "execution_count": 10,
   "metadata": {},
   "outputs": [
    {
     "name": "stdout",
     "output_type": "stream",
     "text": [
      "71.3\n",
      "77.0\n",
      "ModeResult(mode=np.int64(48), count=np.int64(2))\n",
      "72.06666666666666\n"
     ]
    }
   ],
   "source": [
    "import pandas as pd\n",
    "import numpy\n",
    "from scipy import stats\n",
    "\n",
    "# Create a DataFrame with 'value' and 'weight' columns\n",
    "dataframe = pd.DataFrame({'value': [90, 50, 86, 87, 42, 48, 48, 68, 92, 102], 'weight': [4, 2, 3, 5, 6, 5, 5, 3, 7, 5]})\n",
    "\n",
    "# Calculate the mean of the 'value' column\n",
    "x = numpy.mean(dataframe.value)\n",
    "\n",
    "# Calculate the median of the 'value' column\n",
    "y = numpy.median(dataframe.value)\n",
    "\n",
    "# Calculate the mode of the 'value' column\n",
    "z = stats.mode(dataframe.value)\n",
    "\n",
    "# Print the mean value\n",
    "print(x)\n",
    "\n",
    "# Print the median value\n",
    "print(y)\n",
    "\n",
    "# Print the mode value (along with its count)\n",
    "print(z)\n",
    "\n",
    "# Function to compute the weighted average\n",
    "def weighted_average(dataframe, value, weight):\n",
    "    value = dataframe[value]  # Extract the value column\n",
    "    weight = dataframe[weight]  # Extract the weight column\n",
    "    # Compute the weighted average\n",
    "    return (value * weight).sum() / weight.sum()\n",
    "\n",
    "# Calculate and print the weighted average\n",
    "print(weighted_average(dataframe, 'value', 'weight'))\n",
    "\n"
   ]
  },
  {
   "cell_type": "markdown",
   "metadata": {},
   "source": [
    "Assignment: Write a program to calculate median of a dataset."
   ]
  },
  {
   "cell_type": "code",
   "execution_count": 12,
   "metadata": {},
   "outputs": [
    {
     "name": "stdout",
     "output_type": "stream",
     "text": [
      "59.4\n",
      "61.5\n",
      "ModeResult(mode=np.int64(45), count=np.int64(2))\n",
      "54.407407407407405\n"
     ]
    }
   ],
   "source": [
    "import pandas as pd\n",
    "import numpy\n",
    "from scipy import stats\n",
    "\n",
    "# Create a DataFrame with 'value' and 'weight' columns\n",
    "dataframe = pd.DataFrame({'value': [45, 67, 89, 34, 56, 78, 90, 67, 45, 23], 'weight': [1, 3, 2, 4, 5, 2, 1, 3, 2, 4]})\n",
    "\n",
    "# Calculate the mean of the 'value' column\n",
    "x = numpy.mean(dataframe.value)\n",
    "\n",
    "# Calculate the median of the 'value' column\n",
    "y = numpy.median(dataframe.value)\n",
    "\n",
    "# Calculate the mode of the 'value' column\n",
    "z = stats.mode(dataframe.value)\n",
    "\n",
    "# Print the mean value\n",
    "print(x)\n",
    "\n",
    "# Print the median value\n",
    "print(y)\n",
    "\n",
    "# Print the mode value (along with its count)\n",
    "print(z)\n",
    "\n",
    "# Function to compute the weighted average\n",
    "def weighted_average(dataframe, value, weight):\n",
    "    value = dataframe[value]  # Extract the value column\n",
    "    weight = dataframe[weight]  # Extract the weight column\n",
    "    # Compute the weighted average\n",
    "    return (value * weight).sum() / weight.sum()\n",
    "\n",
    "# Calculate and print the weighted average\n",
    "print(weighted_average(dataframe, 'value', 'weight'))\n",
    "\n"
   ]
  }
 ],
 "metadata": {
  "kernelspec": {
   "display_name": "Python 3",
   "language": "python",
   "name": "python3"
  },
  "language_info": {
   "codemirror_mode": {
    "name": "ipython",
    "version": 3
   },
   "file_extension": ".py",
   "mimetype": "text/x-python",
   "name": "python",
   "nbconvert_exporter": "python",
   "pygments_lexer": "ipython3",
   "version": "3.12.4"
  }
 },
 "nbformat": 4,
 "nbformat_minor": 2
}
